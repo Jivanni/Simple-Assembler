{
 "nbformat": 4,
 "nbformat_minor": 2,
 "metadata": {
  "language_info": {
   "name": "python",
   "codemirror_mode": {
    "name": "ipython",
    "version": 3
   },
   "version": "3.8.1-final"
  },
  "orig_nbformat": 2,
  "file_extension": ".py",
  "mimetype": "text/x-python",
  "name": "python",
  "npconvert_exporter": "python",
  "pygments_lexer": "ipython3",
  "version": 3,
  "kernelspec": {
   "name": "python38164bit8cbaf75b708f44a7ac0d52565eca756d",
   "display_name": "Python 3.8.1 64-bit"
  }
 },
 "cells": [
  {
   "cell_type": "code",
   "execution_count": 41,
   "metadata": {},
   "outputs": [],
   "source": [
    "def simple_assembler(program):\n",
    "    registers = {}\n",
    "    array = []\n",
    "    for line in program:\n",
    "        array.append(line.split(\" \"))\n",
    "    pointer = 0\n",
    "    while pointer < len(array):\n",
    "        if array[pointer][0] == \"mov\" and array[pointer][2].isnumeric():\n",
    "            registers[array[pointer][1]] = int(array[pointer][2])\n",
    "            print(f\"instruction{array[pointer]}executed correctly with pointer value of {pointer}\")\n",
    "            pointer+=1\n",
    "        elif array[pointer][0] == \"mov\" and \"-\" in array[pointer][2]:\n",
    "            registers[array[pointer][1]] = int(array[pointer][2])\n",
    "            print(f\"instruction{array[pointer]}executed correctly with pointer value of {pointer}\")\n",
    "            pointer+=1\n",
    "        elif array[pointer][0] == \"mov\" and array[pointer][2].isalpha():\n",
    "            registers[array[pointer][1]] = registers[array[pointer][2]]\n",
    "            print(f\"instruction{array[pointer]}executed correctly with pointer value of {pointer}\")\n",
    "            pointer+=1\n",
    "        elif array[pointer][0] == \"inc\":\n",
    "            registers[array[pointer][1]]+=1\n",
    "            print(f\"instruction{array[pointer]}executed correctly with pointer value of {pointer}\")\n",
    "            pointer+=1\n",
    "        elif array[pointer][0]==\"dec\":\n",
    "            registers[array[pointer][1]]-=1\n",
    "            print(f\"instruction{array[pointer]}executed correctly with pointer value of {pointer}\")\n",
    "            pointer+=1\n",
    "        elif array[pointer][0]==\"jnz\" and array[pointer][1].isalpha():\n",
    "            if registers[array[pointer][1]] !=0:\n",
    "                print(f\"instruction{array[pointer]}executed correctly with pointer value of {pointer}\")\n",
    "                pointer+=int(array[pointer][2])\n",
    "            else: pointer+=1\n",
    "        else: pointer+=1\n",
    "    return registers"
   ]
  },
  {
   "cell_type": "code",
   "execution_count": 42,
   "metadata": {},
   "outputs": [
    {
     "name": "stdout",
     "output_type": "stream",
     "text": "instruction['mov', 'a', '-10']executed correctly with pointer value of 0\ninstruction['mov', 'b', 'a']executed correctly with pointer value of 1\ninstruction['inc', 'a']executed correctly with pointer value of 2\ninstruction['dec', 'b']executed correctly with pointer value of 3\n"
    },
    {
     "data": {
      "text/plain": "{'a': -9, 'b': -11}"
     },
     "execution_count": 42,
     "metadata": {},
     "output_type": "execute_result"
    }
   ],
   "source": [
    "simple_assembler(['mov a -10','mov b a','inc a','dec b'])"
   ]
  },
  {
   "cell_type": "code",
   "execution_count": 36,
   "metadata": {},
   "outputs": [
    {
     "name": "stdout",
     "output_type": "stream",
     "text": "False\n"
    }
   ],
   "source": [
    "print(\"-10\".isalpha())"
   ]
  },
  {
   "cell_type": "code",
   "execution_count": null,
   "metadata": {},
   "outputs": [],
   "source": []
  },
  {
   "cell_type": "code",
   "execution_count": null,
   "metadata": {},
   "outputs": [],
   "source": []
  }
 ]
}